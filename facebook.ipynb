{
 "cells": [
  {
   "cell_type": "code",
   "execution_count": 1,
   "metadata": {},
   "outputs": [],
   "source": [
    "import pandas as pd\n",
    "import statsmodels.formula.api as smf\n",
    "import seaborn as sns\n",
    "\n",
    "facebook = pd.read_csv('DATA/dataset_Facebook.csv', delimiter=\";\")\n"
   ]
  },
  {
   "cell_type": "code",
   "execution_count": 2,
   "metadata": {},
   "outputs": [
    {
     "name": "stdout",
     "output_type": "stream",
     "text": [
      "<class 'pandas.core.frame.DataFrame'>\n",
      "RangeIndex: 500 entries, 0 to 499\n",
      "Data columns (total 19 columns):\n",
      " #   Column                                                               Non-Null Count  Dtype  \n",
      "---  ------                                                               --------------  -----  \n",
      " 0   Page total likes                                                     500 non-null    int64  \n",
      " 1   Type                                                                 500 non-null    object \n",
      " 2   Category                                                             500 non-null    int64  \n",
      " 3   Post Month                                                           500 non-null    int64  \n",
      " 4   Post Weekday                                                         500 non-null    int64  \n",
      " 5   Post Hour                                                            500 non-null    int64  \n",
      " 6   Paid                                                                 499 non-null    float64\n",
      " 7   Lifetime Post Total Reach                                            500 non-null    int64  \n",
      " 8   Lifetime Post Total Impressions                                      500 non-null    int64  \n",
      " 9   Lifetime Engaged Users                                               500 non-null    int64  \n",
      " 10  Lifetime Post Consumers                                              500 non-null    int64  \n",
      " 11  Lifetime Post Consumptions                                           500 non-null    int64  \n",
      " 12  Lifetime Post Impressions by people who have liked your Page         500 non-null    int64  \n",
      " 13  Lifetime Post reach by people who like your Page                     500 non-null    int64  \n",
      " 14  Lifetime People who have liked your Page and engaged with your post  500 non-null    int64  \n",
      " 15  comment                                                              500 non-null    int64  \n",
      " 16  like                                                                 499 non-null    float64\n",
      " 17  share                                                                496 non-null    float64\n",
      " 18  Total Interactions                                                   500 non-null    int64  \n",
      "dtypes: float64(3), int64(15), object(1)\n",
      "memory usage: 74.3+ KB\n"
     ]
    }
   ],
   "source": [
    "facebook.info()"
   ]
  },
  {
   "cell_type": "code",
   "execution_count": 3,
   "metadata": {},
   "outputs": [
    {
     "data": {
      "text/html": [
       "<div>\n",
       "<style scoped>\n",
       "    .dataframe tbody tr th:only-of-type {\n",
       "        vertical-align: middle;\n",
       "    }\n",
       "\n",
       "    .dataframe tbody tr th {\n",
       "        vertical-align: top;\n",
       "    }\n",
       "\n",
       "    .dataframe thead th {\n",
       "        text-align: right;\n",
       "    }\n",
       "</style>\n",
       "<table border=\"1\" class=\"dataframe\">\n",
       "  <thead>\n",
       "    <tr style=\"text-align: right;\">\n",
       "      <th></th>\n",
       "      <th>Page total likes</th>\n",
       "      <th>Category</th>\n",
       "      <th>Post Month</th>\n",
       "      <th>Post Weekday</th>\n",
       "      <th>Post Hour</th>\n",
       "      <th>Paid</th>\n",
       "      <th>Lifetime Post Total Reach</th>\n",
       "      <th>Lifetime Post Total Impressions</th>\n",
       "      <th>Lifetime Engaged Users</th>\n",
       "      <th>Lifetime Post Consumers</th>\n",
       "      <th>Lifetime Post Consumptions</th>\n",
       "      <th>Lifetime Post Impressions by people who have liked your Page</th>\n",
       "      <th>Lifetime Post reach by people who like your Page</th>\n",
       "      <th>Lifetime People who have liked your Page and engaged with your post</th>\n",
       "      <th>comment</th>\n",
       "      <th>like</th>\n",
       "      <th>share</th>\n",
       "      <th>Total Interactions</th>\n",
       "    </tr>\n",
       "  </thead>\n",
       "  <tbody>\n",
       "    <tr>\n",
       "      <th>count</th>\n",
       "      <td>500.000000</td>\n",
       "      <td>500.000000</td>\n",
       "      <td>500.000000</td>\n",
       "      <td>500.000000</td>\n",
       "      <td>500.000000</td>\n",
       "      <td>499.000000</td>\n",
       "      <td>500.00000</td>\n",
       "      <td>5.000000e+02</td>\n",
       "      <td>500.000000</td>\n",
       "      <td>500.000000</td>\n",
       "      <td>500.000000</td>\n",
       "      <td>5.000000e+02</td>\n",
       "      <td>500.000000</td>\n",
       "      <td>500.000000</td>\n",
       "      <td>500.00000</td>\n",
       "      <td>499.000000</td>\n",
       "      <td>496.000000</td>\n",
       "      <td>500.000000</td>\n",
       "    </tr>\n",
       "    <tr>\n",
       "      <th>mean</th>\n",
       "      <td>123194.176000</td>\n",
       "      <td>1.880000</td>\n",
       "      <td>7.038000</td>\n",
       "      <td>4.150000</td>\n",
       "      <td>7.840000</td>\n",
       "      <td>0.278557</td>\n",
       "      <td>13903.36000</td>\n",
       "      <td>2.958595e+04</td>\n",
       "      <td>920.344000</td>\n",
       "      <td>798.772000</td>\n",
       "      <td>1415.130000</td>\n",
       "      <td>1.676638e+04</td>\n",
       "      <td>6585.488000</td>\n",
       "      <td>609.986000</td>\n",
       "      <td>7.48200</td>\n",
       "      <td>177.945892</td>\n",
       "      <td>27.266129</td>\n",
       "      <td>212.120000</td>\n",
       "    </tr>\n",
       "    <tr>\n",
       "      <th>std</th>\n",
       "      <td>16272.813214</td>\n",
       "      <td>0.852675</td>\n",
       "      <td>3.307936</td>\n",
       "      <td>2.030701</td>\n",
       "      <td>4.368589</td>\n",
       "      <td>0.448739</td>\n",
       "      <td>22740.78789</td>\n",
       "      <td>7.680325e+04</td>\n",
       "      <td>985.016636</td>\n",
       "      <td>882.505013</td>\n",
       "      <td>2000.594118</td>\n",
       "      <td>5.979102e+04</td>\n",
       "      <td>7682.009405</td>\n",
       "      <td>612.725618</td>\n",
       "      <td>21.18091</td>\n",
       "      <td>323.398742</td>\n",
       "      <td>42.613292</td>\n",
       "      <td>380.233118</td>\n",
       "    </tr>\n",
       "    <tr>\n",
       "      <th>min</th>\n",
       "      <td>81370.000000</td>\n",
       "      <td>1.000000</td>\n",
       "      <td>1.000000</td>\n",
       "      <td>1.000000</td>\n",
       "      <td>1.000000</td>\n",
       "      <td>0.000000</td>\n",
       "      <td>238.00000</td>\n",
       "      <td>5.700000e+02</td>\n",
       "      <td>9.000000</td>\n",
       "      <td>9.000000</td>\n",
       "      <td>9.000000</td>\n",
       "      <td>5.670000e+02</td>\n",
       "      <td>236.000000</td>\n",
       "      <td>9.000000</td>\n",
       "      <td>0.00000</td>\n",
       "      <td>0.000000</td>\n",
       "      <td>0.000000</td>\n",
       "      <td>0.000000</td>\n",
       "    </tr>\n",
       "    <tr>\n",
       "      <th>25%</th>\n",
       "      <td>112676.000000</td>\n",
       "      <td>1.000000</td>\n",
       "      <td>4.000000</td>\n",
       "      <td>2.000000</td>\n",
       "      <td>3.000000</td>\n",
       "      <td>0.000000</td>\n",
       "      <td>3315.00000</td>\n",
       "      <td>5.694750e+03</td>\n",
       "      <td>393.750000</td>\n",
       "      <td>332.500000</td>\n",
       "      <td>509.250000</td>\n",
       "      <td>3.969750e+03</td>\n",
       "      <td>2181.500000</td>\n",
       "      <td>291.000000</td>\n",
       "      <td>1.00000</td>\n",
       "      <td>56.500000</td>\n",
       "      <td>10.000000</td>\n",
       "      <td>71.000000</td>\n",
       "    </tr>\n",
       "    <tr>\n",
       "      <th>50%</th>\n",
       "      <td>129600.000000</td>\n",
       "      <td>2.000000</td>\n",
       "      <td>7.000000</td>\n",
       "      <td>4.000000</td>\n",
       "      <td>9.000000</td>\n",
       "      <td>0.000000</td>\n",
       "      <td>5281.00000</td>\n",
       "      <td>9.051000e+03</td>\n",
       "      <td>625.500000</td>\n",
       "      <td>551.500000</td>\n",
       "      <td>851.000000</td>\n",
       "      <td>6.255500e+03</td>\n",
       "      <td>3417.000000</td>\n",
       "      <td>412.000000</td>\n",
       "      <td>3.00000</td>\n",
       "      <td>101.000000</td>\n",
       "      <td>19.000000</td>\n",
       "      <td>123.500000</td>\n",
       "    </tr>\n",
       "    <tr>\n",
       "      <th>75%</th>\n",
       "      <td>136393.000000</td>\n",
       "      <td>3.000000</td>\n",
       "      <td>10.000000</td>\n",
       "      <td>6.000000</td>\n",
       "      <td>11.000000</td>\n",
       "      <td>1.000000</td>\n",
       "      <td>13168.00000</td>\n",
       "      <td>2.208550e+04</td>\n",
       "      <td>1062.000000</td>\n",
       "      <td>955.500000</td>\n",
       "      <td>1463.000000</td>\n",
       "      <td>1.486050e+04</td>\n",
       "      <td>7989.000000</td>\n",
       "      <td>656.250000</td>\n",
       "      <td>7.00000</td>\n",
       "      <td>187.500000</td>\n",
       "      <td>32.250000</td>\n",
       "      <td>228.500000</td>\n",
       "    </tr>\n",
       "    <tr>\n",
       "      <th>max</th>\n",
       "      <td>139441.000000</td>\n",
       "      <td>3.000000</td>\n",
       "      <td>12.000000</td>\n",
       "      <td>7.000000</td>\n",
       "      <td>23.000000</td>\n",
       "      <td>1.000000</td>\n",
       "      <td>180480.00000</td>\n",
       "      <td>1.110282e+06</td>\n",
       "      <td>11452.000000</td>\n",
       "      <td>11328.000000</td>\n",
       "      <td>19779.000000</td>\n",
       "      <td>1.107833e+06</td>\n",
       "      <td>51456.000000</td>\n",
       "      <td>4376.000000</td>\n",
       "      <td>372.00000</td>\n",
       "      <td>5172.000000</td>\n",
       "      <td>790.000000</td>\n",
       "      <td>6334.000000</td>\n",
       "    </tr>\n",
       "  </tbody>\n",
       "</table>\n",
       "</div>"
      ],
      "text/plain": [
       "       Page total likes    Category  Post Month  Post Weekday   Post Hour  \\\n",
       "count        500.000000  500.000000  500.000000    500.000000  500.000000   \n",
       "mean      123194.176000    1.880000    7.038000      4.150000    7.840000   \n",
       "std        16272.813214    0.852675    3.307936      2.030701    4.368589   \n",
       "min        81370.000000    1.000000    1.000000      1.000000    1.000000   \n",
       "25%       112676.000000    1.000000    4.000000      2.000000    3.000000   \n",
       "50%       129600.000000    2.000000    7.000000      4.000000    9.000000   \n",
       "75%       136393.000000    3.000000   10.000000      6.000000   11.000000   \n",
       "max       139441.000000    3.000000   12.000000      7.000000   23.000000   \n",
       "\n",
       "             Paid  Lifetime Post Total Reach  Lifetime Post Total Impressions  \\\n",
       "count  499.000000                  500.00000                     5.000000e+02   \n",
       "mean     0.278557                13903.36000                     2.958595e+04   \n",
       "std      0.448739                22740.78789                     7.680325e+04   \n",
       "min      0.000000                  238.00000                     5.700000e+02   \n",
       "25%      0.000000                 3315.00000                     5.694750e+03   \n",
       "50%      0.000000                 5281.00000                     9.051000e+03   \n",
       "75%      1.000000                13168.00000                     2.208550e+04   \n",
       "max      1.000000               180480.00000                     1.110282e+06   \n",
       "\n",
       "       Lifetime Engaged Users  Lifetime Post Consumers  \\\n",
       "count              500.000000               500.000000   \n",
       "mean               920.344000               798.772000   \n",
       "std                985.016636               882.505013   \n",
       "min                  9.000000                 9.000000   \n",
       "25%                393.750000               332.500000   \n",
       "50%                625.500000               551.500000   \n",
       "75%               1062.000000               955.500000   \n",
       "max              11452.000000             11328.000000   \n",
       "\n",
       "       Lifetime Post Consumptions  \\\n",
       "count                  500.000000   \n",
       "mean                  1415.130000   \n",
       "std                   2000.594118   \n",
       "min                      9.000000   \n",
       "25%                    509.250000   \n",
       "50%                    851.000000   \n",
       "75%                   1463.000000   \n",
       "max                  19779.000000   \n",
       "\n",
       "       Lifetime Post Impressions by people who have liked your Page  \\\n",
       "count                                       5.000000e+02              \n",
       "mean                                        1.676638e+04              \n",
       "std                                         5.979102e+04              \n",
       "min                                         5.670000e+02              \n",
       "25%                                         3.969750e+03              \n",
       "50%                                         6.255500e+03              \n",
       "75%                                         1.486050e+04              \n",
       "max                                         1.107833e+06              \n",
       "\n",
       "       Lifetime Post reach by people who like your Page  \\\n",
       "count                                        500.000000   \n",
       "mean                                        6585.488000   \n",
       "std                                         7682.009405   \n",
       "min                                          236.000000   \n",
       "25%                                         2181.500000   \n",
       "50%                                         3417.000000   \n",
       "75%                                         7989.000000   \n",
       "max                                        51456.000000   \n",
       "\n",
       "       Lifetime People who have liked your Page and engaged with your post  \\\n",
       "count                                         500.000000                     \n",
       "mean                                          609.986000                     \n",
       "std                                           612.725618                     \n",
       "min                                             9.000000                     \n",
       "25%                                           291.000000                     \n",
       "50%                                           412.000000                     \n",
       "75%                                           656.250000                     \n",
       "max                                          4376.000000                     \n",
       "\n",
       "         comment         like       share  Total Interactions  \n",
       "count  500.00000   499.000000  496.000000          500.000000  \n",
       "mean     7.48200   177.945892   27.266129          212.120000  \n",
       "std     21.18091   323.398742   42.613292          380.233118  \n",
       "min      0.00000     0.000000    0.000000            0.000000  \n",
       "25%      1.00000    56.500000   10.000000           71.000000  \n",
       "50%      3.00000   101.000000   19.000000          123.500000  \n",
       "75%      7.00000   187.500000   32.250000          228.500000  \n",
       "max    372.00000  5172.000000  790.000000         6334.000000  "
      ]
     },
     "execution_count": 3,
     "metadata": {},
     "output_type": "execute_result"
    }
   ],
   "source": [
    "facebook.describe()"
   ]
  },
  {
   "cell_type": "code",
   "execution_count": 4,
   "metadata": {},
   "outputs": [],
   "source": [
    "facebook['Category'] = facebook['Category'].astype('str')\n",
    "facebook['Post Weekday'] = facebook['Post Weekday'].astype('str')\n",
    "facebook['Post Hour'] = facebook['Post Hour'].astype('str')\n",
    "facebook['Paid'] = facebook['Paid'].astype('bool')\n"
   ]
  },
  {
   "cell_type": "code",
   "execution_count": 5,
   "metadata": {},
   "outputs": [
    {
     "name": "stdout",
     "output_type": "stream",
     "text": [
      "<class 'pandas.core.frame.DataFrame'>\n",
      "RangeIndex: 500 entries, 0 to 499\n",
      "Data columns (total 19 columns):\n",
      " #   Column                                                               Non-Null Count  Dtype  \n",
      "---  ------                                                               --------------  -----  \n",
      " 0   Page total likes                                                     500 non-null    int64  \n",
      " 1   Type                                                                 500 non-null    object \n",
      " 2   Category                                                             500 non-null    object \n",
      " 3   Post Month                                                           500 non-null    int64  \n",
      " 4   Post Weekday                                                         500 non-null    object \n",
      " 5   Post Hour                                                            500 non-null    object \n",
      " 6   Paid                                                                 500 non-null    bool   \n",
      " 7   Lifetime Post Total Reach                                            500 non-null    int64  \n",
      " 8   Lifetime Post Total Impressions                                      500 non-null    int64  \n",
      " 9   Lifetime Engaged Users                                               500 non-null    int64  \n",
      " 10  Lifetime Post Consumers                                              500 non-null    int64  \n",
      " 11  Lifetime Post Consumptions                                           500 non-null    int64  \n",
      " 12  Lifetime Post Impressions by people who have liked your Page         500 non-null    int64  \n",
      " 13  Lifetime Post reach by people who like your Page                     500 non-null    int64  \n",
      " 14  Lifetime People who have liked your Page and engaged with your post  500 non-null    int64  \n",
      " 15  comment                                                              500 non-null    int64  \n",
      " 16  like                                                                 499 non-null    float64\n",
      " 17  share                                                                496 non-null    float64\n",
      " 18  Total Interactions                                                   500 non-null    int64  \n",
      "dtypes: bool(1), float64(2), int64(12), object(4)\n",
      "memory usage: 70.9+ KB\n"
     ]
    }
   ],
   "source": [
    "facebook.info()"
   ]
  },
  {
   "cell_type": "code",
   "execution_count": 6,
   "metadata": {},
   "outputs": [
    {
     "name": "stdout",
     "output_type": "stream",
     "text": [
      "<class 'pandas.core.frame.DataFrame'>\n",
      "RangeIndex: 500 entries, 0 to 499\n",
      "Data columns (total 19 columns):\n",
      " #   Column                                                               Non-Null Count  Dtype  \n",
      "---  ------                                                               --------------  -----  \n",
      " 0   Page total likes                                                     500 non-null    int64  \n",
      " 1   Type                                                                 500 non-null    object \n",
      " 2   Category                                                             500 non-null    object \n",
      " 3   Post Month                                                           500 non-null    int64  \n",
      " 4   Post Weekday                                                         500 non-null    object \n",
      " 5   Post Hour                                                            500 non-null    object \n",
      " 6   Paid                                                                 500 non-null    bool   \n",
      " 7   Lifetime Post Total Reach                                            500 non-null    int64  \n",
      " 8   Lifetime Post Total Impressions                                      500 non-null    int64  \n",
      " 9   Lifetime Engaged Users                                               500 non-null    int64  \n",
      " 10  Lifetime Post Consumers                                              500 non-null    int64  \n",
      " 11  Lifetime Post Consumptions                                           500 non-null    int64  \n",
      " 12  Lifetime Post Impressions by people who have liked your Page         500 non-null    int64  \n",
      " 13  Lifetime Post reach by people who like your Page                     500 non-null    int64  \n",
      " 14  Lifetime People who have liked your Page and engaged with your post  500 non-null    int64  \n",
      " 15  comment                                                              500 non-null    int64  \n",
      " 16  like                                                                 499 non-null    float64\n",
      " 17  share                                                                496 non-null    float64\n",
      " 18  Total Interactions                                                   500 non-null    int64  \n",
      "dtypes: bool(1), float64(2), int64(12), object(4)\n",
      "memory usage: 70.9+ KB\n"
     ]
    }
   ],
   "source": [
    "facebook.info()"
   ]
  },
  {
   "cell_type": "code",
   "execution_count": 7,
   "metadata": {},
   "outputs": [
    {
     "data": {
      "text/html": [
       "<div>\n",
       "<style scoped>\n",
       "    .dataframe tbody tr th:only-of-type {\n",
       "        vertical-align: middle;\n",
       "    }\n",
       "\n",
       "    .dataframe tbody tr th {\n",
       "        vertical-align: top;\n",
       "    }\n",
       "\n",
       "    .dataframe thead th {\n",
       "        text-align: right;\n",
       "    }\n",
       "</style>\n",
       "<table border=\"1\" class=\"dataframe\">\n",
       "  <thead>\n",
       "    <tr style=\"text-align: right;\">\n",
       "      <th></th>\n",
       "      <th>Page total likes</th>\n",
       "      <th>Type</th>\n",
       "      <th>Category</th>\n",
       "      <th>Post Month</th>\n",
       "      <th>Post Weekday</th>\n",
       "      <th>Post Hour</th>\n",
       "      <th>Paid</th>\n",
       "      <th>Lifetime Post Total Reach</th>\n",
       "      <th>Lifetime Post Total Impressions</th>\n",
       "      <th>Lifetime Engaged Users</th>\n",
       "      <th>Lifetime Post Consumers</th>\n",
       "      <th>Lifetime Post Consumptions</th>\n",
       "      <th>Lifetime Post Impressions by people who have liked your Page</th>\n",
       "      <th>Lifetime Post reach by people who like your Page</th>\n",
       "      <th>Lifetime People who have liked your Page and engaged with your post</th>\n",
       "      <th>comment</th>\n",
       "      <th>like</th>\n",
       "      <th>share</th>\n",
       "      <th>Total Interactions</th>\n",
       "    </tr>\n",
       "  </thead>\n",
       "  <tbody>\n",
       "    <tr>\n",
       "      <th>0</th>\n",
       "      <td>139441</td>\n",
       "      <td>Photo</td>\n",
       "      <td>2</td>\n",
       "      <td>12</td>\n",
       "      <td>4</td>\n",
       "      <td>3</td>\n",
       "      <td>False</td>\n",
       "      <td>2752</td>\n",
       "      <td>5091</td>\n",
       "      <td>178</td>\n",
       "      <td>109</td>\n",
       "      <td>159</td>\n",
       "      <td>3078</td>\n",
       "      <td>1640</td>\n",
       "      <td>119</td>\n",
       "      <td>4</td>\n",
       "      <td>79.0</td>\n",
       "      <td>17.0</td>\n",
       "      <td>100</td>\n",
       "    </tr>\n",
       "    <tr>\n",
       "      <th>1</th>\n",
       "      <td>139441</td>\n",
       "      <td>Status</td>\n",
       "      <td>2</td>\n",
       "      <td>12</td>\n",
       "      <td>3</td>\n",
       "      <td>10</td>\n",
       "      <td>False</td>\n",
       "      <td>10460</td>\n",
       "      <td>19057</td>\n",
       "      <td>1457</td>\n",
       "      <td>1361</td>\n",
       "      <td>1674</td>\n",
       "      <td>11710</td>\n",
       "      <td>6112</td>\n",
       "      <td>1108</td>\n",
       "      <td>5</td>\n",
       "      <td>130.0</td>\n",
       "      <td>29.0</td>\n",
       "      <td>164</td>\n",
       "    </tr>\n",
       "    <tr>\n",
       "      <th>2</th>\n",
       "      <td>139441</td>\n",
       "      <td>Photo</td>\n",
       "      <td>3</td>\n",
       "      <td>12</td>\n",
       "      <td>3</td>\n",
       "      <td>3</td>\n",
       "      <td>False</td>\n",
       "      <td>2413</td>\n",
       "      <td>4373</td>\n",
       "      <td>177</td>\n",
       "      <td>113</td>\n",
       "      <td>154</td>\n",
       "      <td>2812</td>\n",
       "      <td>1503</td>\n",
       "      <td>132</td>\n",
       "      <td>0</td>\n",
       "      <td>66.0</td>\n",
       "      <td>14.0</td>\n",
       "      <td>80</td>\n",
       "    </tr>\n",
       "    <tr>\n",
       "      <th>3</th>\n",
       "      <td>139441</td>\n",
       "      <td>Photo</td>\n",
       "      <td>2</td>\n",
       "      <td>12</td>\n",
       "      <td>2</td>\n",
       "      <td>10</td>\n",
       "      <td>True</td>\n",
       "      <td>50128</td>\n",
       "      <td>87991</td>\n",
       "      <td>2211</td>\n",
       "      <td>790</td>\n",
       "      <td>1119</td>\n",
       "      <td>61027</td>\n",
       "      <td>32048</td>\n",
       "      <td>1386</td>\n",
       "      <td>58</td>\n",
       "      <td>1572.0</td>\n",
       "      <td>147.0</td>\n",
       "      <td>1777</td>\n",
       "    </tr>\n",
       "    <tr>\n",
       "      <th>4</th>\n",
       "      <td>139441</td>\n",
       "      <td>Photo</td>\n",
       "      <td>2</td>\n",
       "      <td>12</td>\n",
       "      <td>2</td>\n",
       "      <td>3</td>\n",
       "      <td>False</td>\n",
       "      <td>7244</td>\n",
       "      <td>13594</td>\n",
       "      <td>671</td>\n",
       "      <td>410</td>\n",
       "      <td>580</td>\n",
       "      <td>6228</td>\n",
       "      <td>3200</td>\n",
       "      <td>396</td>\n",
       "      <td>19</td>\n",
       "      <td>325.0</td>\n",
       "      <td>49.0</td>\n",
       "      <td>393</td>\n",
       "    </tr>\n",
       "    <tr>\n",
       "      <th>...</th>\n",
       "      <td>...</td>\n",
       "      <td>...</td>\n",
       "      <td>...</td>\n",
       "      <td>...</td>\n",
       "      <td>...</td>\n",
       "      <td>...</td>\n",
       "      <td>...</td>\n",
       "      <td>...</td>\n",
       "      <td>...</td>\n",
       "      <td>...</td>\n",
       "      <td>...</td>\n",
       "      <td>...</td>\n",
       "      <td>...</td>\n",
       "      <td>...</td>\n",
       "      <td>...</td>\n",
       "      <td>...</td>\n",
       "      <td>...</td>\n",
       "      <td>...</td>\n",
       "      <td>...</td>\n",
       "    </tr>\n",
       "    <tr>\n",
       "      <th>495</th>\n",
       "      <td>85093</td>\n",
       "      <td>Photo</td>\n",
       "      <td>3</td>\n",
       "      <td>1</td>\n",
       "      <td>7</td>\n",
       "      <td>2</td>\n",
       "      <td>False</td>\n",
       "      <td>4684</td>\n",
       "      <td>7536</td>\n",
       "      <td>733</td>\n",
       "      <td>708</td>\n",
       "      <td>985</td>\n",
       "      <td>4750</td>\n",
       "      <td>2876</td>\n",
       "      <td>392</td>\n",
       "      <td>5</td>\n",
       "      <td>53.0</td>\n",
       "      <td>26.0</td>\n",
       "      <td>84</td>\n",
       "    </tr>\n",
       "    <tr>\n",
       "      <th>496</th>\n",
       "      <td>81370</td>\n",
       "      <td>Photo</td>\n",
       "      <td>2</td>\n",
       "      <td>1</td>\n",
       "      <td>5</td>\n",
       "      <td>8</td>\n",
       "      <td>False</td>\n",
       "      <td>3480</td>\n",
       "      <td>6229</td>\n",
       "      <td>537</td>\n",
       "      <td>508</td>\n",
       "      <td>687</td>\n",
       "      <td>3961</td>\n",
       "      <td>2104</td>\n",
       "      <td>301</td>\n",
       "      <td>0</td>\n",
       "      <td>53.0</td>\n",
       "      <td>22.0</td>\n",
       "      <td>75</td>\n",
       "    </tr>\n",
       "    <tr>\n",
       "      <th>497</th>\n",
       "      <td>81370</td>\n",
       "      <td>Photo</td>\n",
       "      <td>1</td>\n",
       "      <td>1</td>\n",
       "      <td>5</td>\n",
       "      <td>2</td>\n",
       "      <td>False</td>\n",
       "      <td>3778</td>\n",
       "      <td>7216</td>\n",
       "      <td>625</td>\n",
       "      <td>572</td>\n",
       "      <td>795</td>\n",
       "      <td>4742</td>\n",
       "      <td>2388</td>\n",
       "      <td>363</td>\n",
       "      <td>4</td>\n",
       "      <td>93.0</td>\n",
       "      <td>18.0</td>\n",
       "      <td>115</td>\n",
       "    </tr>\n",
       "    <tr>\n",
       "      <th>498</th>\n",
       "      <td>81370</td>\n",
       "      <td>Photo</td>\n",
       "      <td>3</td>\n",
       "      <td>1</td>\n",
       "      <td>4</td>\n",
       "      <td>11</td>\n",
       "      <td>False</td>\n",
       "      <td>4156</td>\n",
       "      <td>7564</td>\n",
       "      <td>626</td>\n",
       "      <td>574</td>\n",
       "      <td>832</td>\n",
       "      <td>4534</td>\n",
       "      <td>2452</td>\n",
       "      <td>370</td>\n",
       "      <td>7</td>\n",
       "      <td>91.0</td>\n",
       "      <td>38.0</td>\n",
       "      <td>136</td>\n",
       "    </tr>\n",
       "    <tr>\n",
       "      <th>499</th>\n",
       "      <td>81370</td>\n",
       "      <td>Photo</td>\n",
       "      <td>2</td>\n",
       "      <td>1</td>\n",
       "      <td>4</td>\n",
       "      <td>4</td>\n",
       "      <td>True</td>\n",
       "      <td>4188</td>\n",
       "      <td>7292</td>\n",
       "      <td>564</td>\n",
       "      <td>524</td>\n",
       "      <td>743</td>\n",
       "      <td>3861</td>\n",
       "      <td>2200</td>\n",
       "      <td>316</td>\n",
       "      <td>0</td>\n",
       "      <td>91.0</td>\n",
       "      <td>28.0</td>\n",
       "      <td>119</td>\n",
       "    </tr>\n",
       "  </tbody>\n",
       "</table>\n",
       "<p>500 rows × 19 columns</p>\n",
       "</div>"
      ],
      "text/plain": [
       "     Page total likes    Type Category  Post Month Post Weekday Post Hour  \\\n",
       "0              139441   Photo        2          12            4         3   \n",
       "1              139441  Status        2          12            3        10   \n",
       "2              139441   Photo        3          12            3         3   \n",
       "3              139441   Photo        2          12            2        10   \n",
       "4              139441   Photo        2          12            2         3   \n",
       "..                ...     ...      ...         ...          ...       ...   \n",
       "495             85093   Photo        3           1            7         2   \n",
       "496             81370   Photo        2           1            5         8   \n",
       "497             81370   Photo        1           1            5         2   \n",
       "498             81370   Photo        3           1            4        11   \n",
       "499             81370   Photo        2           1            4         4   \n",
       "\n",
       "      Paid  Lifetime Post Total Reach  Lifetime Post Total Impressions  \\\n",
       "0    False                       2752                             5091   \n",
       "1    False                      10460                            19057   \n",
       "2    False                       2413                             4373   \n",
       "3     True                      50128                            87991   \n",
       "4    False                       7244                            13594   \n",
       "..     ...                        ...                              ...   \n",
       "495  False                       4684                             7536   \n",
       "496  False                       3480                             6229   \n",
       "497  False                       3778                             7216   \n",
       "498  False                       4156                             7564   \n",
       "499   True                       4188                             7292   \n",
       "\n",
       "     Lifetime Engaged Users  Lifetime Post Consumers  \\\n",
       "0                       178                      109   \n",
       "1                      1457                     1361   \n",
       "2                       177                      113   \n",
       "3                      2211                      790   \n",
       "4                       671                      410   \n",
       "..                      ...                      ...   \n",
       "495                     733                      708   \n",
       "496                     537                      508   \n",
       "497                     625                      572   \n",
       "498                     626                      574   \n",
       "499                     564                      524   \n",
       "\n",
       "     Lifetime Post Consumptions  \\\n",
       "0                           159   \n",
       "1                          1674   \n",
       "2                           154   \n",
       "3                          1119   \n",
       "4                           580   \n",
       "..                          ...   \n",
       "495                         985   \n",
       "496                         687   \n",
       "497                         795   \n",
       "498                         832   \n",
       "499                         743   \n",
       "\n",
       "     Lifetime Post Impressions by people who have liked your Page  \\\n",
       "0                                                 3078              \n",
       "1                                                11710              \n",
       "2                                                 2812              \n",
       "3                                                61027              \n",
       "4                                                 6228              \n",
       "..                                                 ...              \n",
       "495                                               4750              \n",
       "496                                               3961              \n",
       "497                                               4742              \n",
       "498                                               4534              \n",
       "499                                               3861              \n",
       "\n",
       "     Lifetime Post reach by people who like your Page  \\\n",
       "0                                                1640   \n",
       "1                                                6112   \n",
       "2                                                1503   \n",
       "3                                               32048   \n",
       "4                                                3200   \n",
       "..                                                ...   \n",
       "495                                              2876   \n",
       "496                                              2104   \n",
       "497                                              2388   \n",
       "498                                              2452   \n",
       "499                                              2200   \n",
       "\n",
       "     Lifetime People who have liked your Page and engaged with your post  \\\n",
       "0                                                  119                     \n",
       "1                                                 1108                     \n",
       "2                                                  132                     \n",
       "3                                                 1386                     \n",
       "4                                                  396                     \n",
       "..                                                 ...                     \n",
       "495                                                392                     \n",
       "496                                                301                     \n",
       "497                                                363                     \n",
       "498                                                370                     \n",
       "499                                                316                     \n",
       "\n",
       "     comment    like  share  Total Interactions  \n",
       "0          4    79.0   17.0                 100  \n",
       "1          5   130.0   29.0                 164  \n",
       "2          0    66.0   14.0                  80  \n",
       "3         58  1572.0  147.0                1777  \n",
       "4         19   325.0   49.0                 393  \n",
       "..       ...     ...    ...                 ...  \n",
       "495        5    53.0   26.0                  84  \n",
       "496        0    53.0   22.0                  75  \n",
       "497        4    93.0   18.0                 115  \n",
       "498        7    91.0   38.0                 136  \n",
       "499        0    91.0   28.0                 119  \n",
       "\n",
       "[500 rows x 19 columns]"
      ]
     },
     "execution_count": 7,
     "metadata": {},
     "output_type": "execute_result"
    }
   ],
   "source": [
    "facebook"
   ]
  },
  {
   "cell_type": "code",
   "execution_count": 8,
   "metadata": {},
   "outputs": [
    {
     "data": {
      "text/plain": [
       "1     25\n",
       "2     26\n",
       "3     36\n",
       "4     50\n",
       "5     37\n",
       "6     49\n",
       "7     52\n",
       "8     34\n",
       "9     36\n",
       "10    60\n",
       "11    45\n",
       "12    50\n",
       "Name: Post Month, dtype: int64"
      ]
     },
     "execution_count": 8,
     "metadata": {},
     "output_type": "execute_result"
    }
   ],
   "source": [
    "ppm = facebook['Post Month'].value_counts().sort_index()\n",
    "ppm "
   ]
  },
  {
   "cell_type": "raw",
   "metadata": {},
   "source": []
  },
  {
   "cell_type": "code",
   "execution_count": null,
   "metadata": {},
   "outputs": [],
   "source": []
  },
  {
   "cell_type": "code",
   "execution_count": 9,
   "metadata": {},
   "outputs": [
    {
     "data": {
      "text/plain": [
       "<matplotlib.axes._subplots.AxesSubplot at 0x1a22b64950>"
      ]
     },
     "execution_count": 9,
     "metadata": {},
     "output_type": "execute_result"
    },
    {
     "data": {
      "image/png": "[encoded data removed]",
      "text/plain": [
       "<Figure size 432x288 with 1 Axes>"
      ]
     },
     "metadata": {
      "needs_background": "light"
     },
     "output_type": "display_data"
    }
   ],
   "source": [
    "# post by month\n",
    "sns.barplot(x=ppm.index, y=ppm)\n"
   ]
  },
  {
   "cell_type": "code",
   "execution_count": 10,
   "metadata": {},
   "outputs": [
    {
     "data": {
      "text/plain": [
       "<matplotlib.axes._subplots.AxesSubplot at 0x1a232898d0>"
      ]
     },
     "execution_count": 10,
     "metadata": {},
     "output_type": "execute_result"
    },
    {
     "data": {
      "image/png": "[encoded data removed]",
      "text/plain": [
       "<Figure size 432x288 with 1 Axes>"
      ]
     },
     "metadata": {
      "needs_background": "light"
     },
     "output_type": "display_data"
    }
   ],
   "source": [
    "sns.distplot(ppm)"
   ]
  },
  {
   "cell_type": "code",
   "execution_count": 11,
   "metadata": {},
   "outputs": [
    {
     "data": {
      "text/plain": [
       "<bound method IndexOpsMixin.value_counts of 0      2\n",
       "1      2\n",
       "2      3\n",
       "3      2\n",
       "4      2\n",
       "      ..\n",
       "495    3\n",
       "496    2\n",
       "497    1\n",
       "498    3\n",
       "499    2\n",
       "Name: Category, Length: 500, dtype: object>"
      ]
     },
     "execution_count": 11,
     "metadata": {},
     "output_type": "execute_result"
    }
   ],
   "source": [
    "bycat = facebook['Category'].value_counts\n",
    "#ptl = facebook['Page total likes']\n",
    "#ptl\n",
    "bycat"
   ]
  },
  {
   "cell_type": "code",
   "execution_count": 12,
   "metadata": {},
   "outputs": [
    {
     "data": {
      "text/plain": [
       "<matplotlib.axes._subplots.AxesSubplot at 0x1a233a2990>"
      ]
     },
     "execution_count": 12,
     "metadata": {},
     "output_type": "execute_result"
    },
    {
     "data": {
      "image/png": "[encoded data removed]",
      "text/plain": [
       "<Figure size 432x288 with 1 Axes>"
      ]
     },
     "metadata": {
      "needs_background": "light"
     },
     "output_type": "display_data"
    }
   ],
   "source": [
    "fl = facebook['Page total likes']\n",
    "ft = facebook['Type']\n",
    "sns.barplot(x=ft, y=fl)"
   ]
  },
  {
   "cell_type": "code",
   "execution_count": 13,
   "metadata": {},
   "outputs": [
    {
     "data": {
      "text/plain": [
       "<pandas.core.groupby.generic.DataFrameGroupBy object at 0x1a23493190>"
      ]
     },
     "execution_count": 13,
     "metadata": {},
     "output_type": "execute_result"
    }
   ],
   "source": [
    "ft = facebook.groupby('Type')\n",
    "ft\n",
    "#facebook['Page total likes'][ft]"
   ]
  },
  {
   "cell_type": "code",
   "execution_count": 14,
   "metadata": {},
   "outputs": [
    {
     "data": {
      "text/plain": [
       "<matplotlib.axes._subplots.AxesSubplot at 0x1a23386550>"
      ]
     },
     "execution_count": 14,
     "metadata": {},
     "output_type": "execute_result"
    },
    {
     "data": {
      "image/png": "[encoded data removed]",
      "text/plain": [
       "<Figure size 432x288 with 1 Axes>"
      ]
     },
     "metadata": {
      "needs_background": "light"
     },
     "output_type": "display_data"
    }
   ],
   "source": [
    "sns.barplot(x = facebook['Type'], y = facebook['Lifetime Post Total Reach'], ci = False)"
   ]
  },
  {
   "cell_type": "code",
   "execution_count": 15,
   "metadata": {},
   "outputs": [
    {
     "data": {
      "text/plain": [
       "<matplotlib.axes._subplots.AxesSubplot at 0x1a2338d8d0>"
      ]
     },
     "execution_count": 15,
     "metadata": {},
     "output_type": "execute_result"
    },
    {
     "data": {
      "image/png": "[encoded data removed]",
      "text/plain": [
       "<Figure size 432x288 with 1 Axes>"
      ]
     },
     "metadata": {
      "needs_background": "light"
     },
     "output_type": "display_data"
    }
   ],
   "source": [
    "sns.barplot(x = facebook['Post Month'], y = facebook['Total Interactions'],ci = False)"
   ]
  },
  {
   "cell_type": "code",
   "execution_count": 16,
   "metadata": {},
   "outputs": [
    {
     "data": {
      "text/plain": [
       "<matplotlib.axes._subplots.AxesSubplot at 0x1a236c06d0>"
      ]
     },
     "execution_count": 16,
     "metadata": {},
     "output_type": "execute_result"
    },
    {
     "data": {
      "image/png": "[encoded data removed]",
      "text/plain": [
       "<Figure size 432x288 with 1 Axes>"
      ]
     },
     "metadata": {
      "needs_background": "light"
     },
     "output_type": "display_data"
    }
   ],
   "source": [
    "sns.barplot(x = facebook['Post Month'], y = facebook['Lifetime Post Total Reach'], ci = False)"
   ]
  },
  {
   "cell_type": "code",
   "execution_count": 17,
   "metadata": {},
   "outputs": [
    {
     "data": {
      "text/plain": [
       "<matplotlib.axes._subplots.AxesSubplot at 0x1a237e0050>"
      ]
     },
     "execution_count": 17,
     "metadata": {},
     "output_type": "execute_result"
    },
    {
     "data": {
      "image/png": "[encoded data removed]",
      "text/plain": [
       "<Figure size 432x288 with 1 Axes>"
      ]
     },
     "metadata": {
      "needs_background": "light"
     },
     "output_type": "display_data"
    }
   ],
   "source": [
    "sns.barplot(x = facebook['Post Month'], y = facebook['share'], ci = False)"
   ]
  },
  {
   "cell_type": "code",
   "execution_count": 19,
   "metadata": {},
   "outputs": [
    {
     "data": {
      "text/plain": [
       "<matplotlib.axes._subplots.AxesSubplot at 0x1a23912510>"
      ]
     },
     "execution_count": 19,
     "metadata": {},
     "output_type": "execute_result"
    },
    {
     "data": {
      "image/png": "[encoded data removed]",
      "text/plain": [
       "<Figure size 432x288 with 1 Axes>"
      ]
     },
     "metadata": {
      "needs_background": "light"
     },
     "output_type": "display_data"
    }
   ],
   "source": [
    "sns.barplot(x = facebook['Category'], y = facebook['Lifetime Post Consumers'], ci = False)"
   ]
  },
  {
   "cell_type": "code",
   "execution_count": null,
   "metadata": {
    "scrolled": true
   },
   "outputs": [],
   "source": []
  },
  {
   "cell_type": "code",
   "execution_count": null,
   "metadata": {},
   "outputs": [],
   "source": []
  }
 ],
 "metadata": {
  "kernelspec": {
   "display_name": "Python 3",
   "language": "python",
   "name": "python3"
  },
  "language_info": {
   "codemirror_mode": {
    "name": "ipython",
    "version": 3
   },
   "file_extension": ".py",
   "mimetype": "text/x-python",
   "name": "python",
   "nbconvert_exporter": "python",
   "pygments_lexer": "ipython3",
   "version": "3.7.7"
  }
 },
 "nbformat": 4,
 "nbformat_minor": 2
}
